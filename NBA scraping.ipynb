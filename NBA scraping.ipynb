{
 "cells": [
  {
   "cell_type": "code",
   "execution_count": null,
   "metadata": {
    "collapsed": true
   },
   "outputs": [],
   "source": [
    "# This is a spidering program getting real-time standing information of NBA from ESPN\n",
    "# The program will print real-time ranking of all 30 teams and save the information as a txt file on desktop(Windows 10)\n",
    "\n",
    "import requests\n",
    "from bs4 import BeautifulSoup\n",
    "\n",
    "def printTeamInfo():\n",
    "    rank = 1\n",
    "    outputText= ''\n",
    "    print('Eastern Conference:'+'\\n')\n",
    "    outputText = outputText + 'Eastern Conference:'+'\\n'\n",
    "    for div in divsOne:\n",
    "        if(rank > 15):\n",
    "            rank = 1\n",
    "            print('Western Conference:'+'\\n')\n",
    "            outputText = outputText + 'Western Conference:'+'\\n'\n",
    "        print('#'+ str(rank)+ ' '+ div.abbr.get('title') + ':')\n",
    "        outputText = outputText + '#'+ str(rank)+ ' '+ div.abbr.get('title') + ':'+'\\n'\n",
    "        print('http://www.espn.com/'+ div.a.get('href'))\n",
    "        outputText = outputText + 'http://www.espn.com/'+ div.a.get('href')+'\\n'\n",
    "        print('______________')\n",
    "        outputText = outputText + '______________'+'\\n'\n",
    "        rank +=1\n",
    "    return outputText\n",
    "\n",
    "headers = {'user-agent':'Mozilla/5.0 (Windows; U; Windows NT 6.1; en-US; rv:1.9.1.6) Gecko/20091201 Firefox/3.5.6'}\n",
    "textDataURL = \"http://www.espn.com/nba/standings\"\n",
    "textData = requests.get(textDataURL,headers = headers)\n",
    "beautifulTextData = BeautifulSoup(textData.text,'html.parser')\n",
    "\n",
    "content=''\n",
    "divsOne = beautifulTextData.find_all(class_='team-link flex items-center clr-gray-03')\n",
    "divsTwo = beautifulTextData.find_all(class_='Table2__shadow-scroller')\n",
    "printTeamInfo\n",
    "content = content + printTeamInfo()\n",
    "content = content.encode('utf-8')\n",
    "\n",
    "with open(r\"C:\\Users\\Administrator\\Desktop\\NBAranking.txt\",\"wb+\") as f:\n",
    "    f.write(content)"
   ]
  }
 ],
 "metadata": {
  "kernelspec": {
   "display_name": "Python 3",
   "language": "python",
   "name": "python3"
  },
  "language_info": {
   "codemirror_mode": {
    "name": "ipython",
    "version": 3
   },
   "file_extension": ".py",
   "mimetype": "text/x-python",
   "name": "python",
   "nbconvert_exporter": "python",
   "pygments_lexer": "ipython3",
   "version": "3.6.3"
  }
 },
 "nbformat": 4,
 "nbformat_minor": 2
}
